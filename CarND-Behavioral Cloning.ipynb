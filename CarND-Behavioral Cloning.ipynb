{
 "cells": [
  {
   "cell_type": "code",
   "execution_count": 2,
   "metadata": {},
   "outputs": [
    {
     "name": "stderr",
     "output_type": "stream",
     "text": [
      "C:\\Users\\Aaron\\Anaconda3\\lib\\site-packages\\h5py\\__init__.py:34: FutureWarning: Conversion of the second argument of issubdtype from `float` to `np.floating` is deprecated. In future, it will be treated as `np.float64 == np.dtype(float).type`.\n",
      "  from ._conv import register_converters as _register_converters\n",
      "Using TensorFlow backend.\n"
     ]
    }
   ],
   "source": [
    "#load libs\n",
    "import numpy as np\n",
    "import math\n",
    "import pandas as pd\n",
    "import cv2\n",
    "\n",
    "from keras.models import Sequential\n",
    "from keras.layers import Flatten, Dense, Activation, Dropout\n",
    "from keras.layers import Conv2D\n",
    "from sklearn.model_selection import train_test_split\n",
    "import matplotlib.pyplot as plt\n",
    "from keras.preprocessing.image import ImageDataGenerator, array_to_img, img_to_array\n"
   ]
  },
  {
   "cell_type": "code",
   "execution_count": 4,
   "metadata": {},
   "outputs": [
    {
     "name": "stdout",
     "output_type": "stream",
     "text": [
      "(6027, 160, 320, 3)\n",
      "(6027,)\n"
     ]
    }
   ],
   "source": [
    "import csv\n",
    "\n",
    "lines = []\n",
    "with open('C:/Users/Aaron/CarND-Behavioral-Cloning-P3/data/data/driving_log.csv') as csvfile:\n",
    "    reader = csv.reader(csvfile)\n",
    "    for line in reader:\n",
    "        lines.append(line)\n",
    "    \n",
    "images = []\n",
    "measurements = []\n",
    "for line in lines:\n",
    "    for i in range(3):\n",
    "        source_path = line[i]\n",
    "        filename = source_path.split('/')[-1]\n",
    "        current_path = 'C:/Users/Aaron/CarND-Behavioral-Cloning-P3/data/data/IMG/' + filename\n",
    "        image = cv2.imread(current_path)        \n",
    "        images.append(image)\n",
    "        \n",
    "        measurement = float(line[3])\n",
    "        \n",
    "        if(i==1):\n",
    "            measurement = measurement+0.2\n",
    "        if(i==2):\n",
    "            measurement = measurement-0.2\n",
    "            \n",
    "        measurements.append(measurement)\n",
    "\n",
    "X = np.array(images[0:int(len(images)/4)]) #reduce array size to 1/4\n",
    "y = np.array(measurements[0:int(len(measurements)/4)])\n",
    "\n",
    "print(X.shape)\n",
    "print(y.shape)\n",
    "\n"
   ]
  },
  {
   "cell_type": "code",
   "execution_count": 3,
   "metadata": {},
   "outputs": [
    {
     "data": {
      "text/plain": [
       "-1"
      ]
     },
     "execution_count": 3,
     "metadata": {},
     "output_type": "execute_result"
    }
   ],
   "source": [
    "alpha = 2\n",
    "beta = 50\n",
    "\n",
    "def bright\n",
    "img = cv2.imread('sample.jpg')\n",
    "img_brighten = cv2.addWeighted(img,alpha,np.zeros(img.shape,img.dtype),0,beta)\n",
    "\n",
    "cv2.imshow('image',img_brighten)\n",
    "cv2.waitKey(0)\n"
   ]
  },
  {
   "cell_type": "code",
   "execution_count": 5,
   "metadata": {
    "collapsed": true
   },
   "outputs": [],
   "source": [
    "#https://keras.io/preprocessing/image/\n",
    "\n",
    "datagen = ImageDataGenerator(\n",
    "    featurewise_center=True,\n",
    "    featurewise_std_normalization=True,\n",
    "    rotation_range=20,\n",
    "    width_shift_range=0.2,\n",
    "    height_shift_range=0.2,\n",
    "    horizontal_flip=True)"
   ]
  },
  {
   "cell_type": "code",
   "execution_count": null,
   "metadata": {
    "collapsed": true
   },
   "outputs": [],
   "source": [
    "#Save in pickle\n",
    "import pickle\n",
    "\n",
    "\n",
    "with open('X.pickle', 'wb') as handle:\n",
    "    pickle.dump(X, handle, protocol=pickle.HIGHEST_PROTOCOL)\n",
    "\n",
    "with open('y.pickle', 'wb') as handle:\n",
    "    pickle.dump(y, handle, protocol=pickle.HIGHEST_PROTOCOL)"
   ]
  },
  {
   "cell_type": "code",
   "execution_count": 6,
   "metadata": {},
   "outputs": [
    {
     "name": "stdout",
     "output_type": "stream",
     "text": [
      "(4821, 160, 320, 3)\n",
      "(4821,)\n"
     ]
    }
   ],
   "source": [
    "\n",
    "X_train, X_test, y_train, y_test = train_test_split(X, y, test_size=0.2, random_state=42)\n",
    "\n",
    "\n",
    "print(X_train.shape)\n",
    "print(y_train.shape)"
   ]
  },
  {
   "cell_type": "code",
   "execution_count": null,
   "metadata": {
    "collapsed": true
   },
   "outputs": [],
   "source": [
    "def simple_generator(x_data,y_data, batch_size):\n",
    "    batch_images = np.zeros((batch_size,160,320,3))\n",
    "    batch_steering = y_data\n",
    "    while True:\n",
    "        for i_batch in range(batch_size):\n",
    "            x = preprocessImage(x_data[i_batch])\n",
    "        batch_images[i_batch] = x\n",
    "        yield batch_images, batch_steering"
   ]
  },
  {
   "cell_type": "code",
   "execution_count": 7,
   "metadata": {
    "collapsed": true
   },
   "outputs": [],
   "source": [
    "def Nvidia_model():\n",
    "    model = Sequential()\n",
    "    keep_prob = 0.5\n",
    "\n",
    "    #First ConLayer\n",
    "    model.add(Conv2D(24, kernel_size=(5, 5), strides=(2,2), padding='valid',activation='relu',input_shape=(160,320,3)))\n",
    "\n",
    "    #second ConLayer\n",
    "    model.add(Conv2D(36,(5, 5), strides=(2,2), padding='valid',activation='relu'))\n",
    "\n",
    "    #third ConLayer\n",
    "    model.add(Conv2D(48,(5, 5), strides=(2,2), padding='valid',activation='relu'))\n",
    "\n",
    "    #fourth ConLayer\n",
    "    model.add(Conv2D(64,(3, 3),  padding='valid',activation='relu'))\n",
    "\n",
    "    #fifth ConLayer\n",
    "    model.add(Conv2D(64,(3, 3), padding='valid',activation='relu'))\n",
    "\n",
    "    #Flatten\n",
    "    model.add(Flatten())\n",
    "\n",
    "    #FullConnectedLayer 1\n",
    "    model.add(Dense(100,activation='relu'))\n",
    "    model.add(Dropout(keep_prob))\n",
    "\n",
    "    #FullConnectedLayer 2\n",
    "    model.add(Dense(50,activation='relu'))\n",
    "    model.add(Dropout(keep_prob))\n",
    "\n",
    "    #FullConnectedLayer 3\n",
    "    model.add(Dense(10, activation='relu'))\n",
    "    model.add(Dropout(keep_prob))\n",
    "\n",
    "    #Output Layer\n",
    "    model.add(Dense(1, activation='softsign'))\n",
    "\n",
    "    return model\n",
    "\n"
   ]
  },
  {
   "cell_type": "code",
   "execution_count": null,
   "metadata": {},
   "outputs": [],
   "source": [
    "batch_size = 128\n",
    "epochs = 3\n",
    "\n",
    "model = Nvidia_model()\n",
    "model.compile(loss = 'mse', optimizer='adam')\n",
    "\n",
    "model.fit_generator(datagen.flow(X_train, y_train, batch_size=batch_size),\n",
    "                    steps_per_epoch=len(X_train) / batch_size, epochs=epochs)\n",
    "\n",
    "model.save('C:/Users/Aaron/CarND-Behavioral-Cloning-P3/model.h5')\n",
    "print(\"model saved\")"
   ]
  },
  {
   "cell_type": "code",
   "execution_count": null,
   "metadata": {
    "collapsed": true
   },
   "outputs": [],
   "source": []
  }
 ],
 "metadata": {
  "kernelspec": {
   "display_name": "Python 3",
   "language": "python",
   "name": "python3"
  },
  "language_info": {
   "codemirror_mode": {
    "name": "ipython",
    "version": 3
   },
   "file_extension": ".py",
   "mimetype": "text/x-python",
   "name": "python",
   "nbconvert_exporter": "python",
   "pygments_lexer": "ipython3",
   "version": "3.6.1"
  }
 },
 "nbformat": 4,
 "nbformat_minor": 2
}
